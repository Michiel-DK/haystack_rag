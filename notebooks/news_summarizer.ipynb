{
 "cells": [
  {
   "cell_type": "code",
   "execution_count": 1,
   "metadata": {},
   "outputs": [
    {
     "name": "stderr",
     "output_type": "stream",
     "text": [
      "/Users/michieldekoninck/.pyenv/versions/3.10.6/envs/haystack_rag/lib/python3.10/site-packages/tqdm/auto.py:21: TqdmWarning: IProgress not found. Please update jupyter and ipywidgets. See https://ipywidgets.readthedocs.io/en/stable/user_install.html\n",
      "  from .autonotebook import tqdm as notebook_tqdm\n"
     ]
    }
   ],
   "source": [
    "import requests\n",
    "\n",
    "from typing import List\n",
    "\n",
    "from haystack import Document, Pipeline, component\n",
    "from haystack.components.builders import PromptBuilder\n",
    "from haystack.components.generators.openai import OpenAIGenerator\n",
    "from haystack.components.fetchers import LinkContentFetcher\n",
    "from haystack.components.converters import HTMLToDocument"
   ]
  },
  {
   "cell_type": "code",
   "execution_count": 7,
   "metadata": {},
   "outputs": [
    {
     "ename": "SyntaxError",
     "evalue": "invalid syntax. Perhaps you forgot a comma? (3790760437.py, line 5)",
     "output_type": "error",
     "traceback": [
      "\u001b[0;36m  Cell \u001b[0;32mIn[7], line 5\u001b[0;36m\u001b[0m\n\u001b[0;31m    print(url)\u001b[0m\n\u001b[0m    ^\u001b[0m\n\u001b[0;31mSyntaxError\u001b[0m\u001b[0;31m:\u001b[0m invalid syntax. Perhaps you forgot a comma?\n"
     ]
    }
   ],
   "source": [
    "trending_list = requests.get(\n",
    "        url=\"https://hacker-news.firebaseio.com/v0/topstories.json?print=pretty\"\n",
    "    )\n",
    "post = requests.get(\n",
    "    url=f\"https://hacker-news.firebaseio.com/v0/item/{trending_list.json()[0]}.json?print=pretty\"\n",
    ")\n",
    "\n",
    "print(post.json())"
   ]
  },
  {
   "cell_type": "code",
   "execution_count": 8,
   "metadata": {},
   "outputs": [
    {
     "data": {
      "text/plain": [
       "'https://apps.apple.com/us/app/tik/id6720712299'"
      ]
     },
     "execution_count": 8,
     "metadata": {},
     "output_type": "execute_result"
    }
   ],
   "source": [
    "post.json()['url']"
   ]
  },
  {
   "cell_type": "code",
   "execution_count": 9,
   "metadata": {},
   "outputs": [],
   "source": [
    "@component\n",
    "class HackernewsNewestFetcher:\n",
    "    def __init__(self):\n",
    "        fetcher = LinkContentFetcher()\n",
    "        converter = HTMLToDocument()\n",
    "\n",
    "        html_conversion_pipeline = Pipeline()\n",
    "        html_conversion_pipeline.add_component(\"fetcher\", fetcher)\n",
    "        html_conversion_pipeline.add_component(\"converter\", converter)\n",
    "\n",
    "        html_conversion_pipeline.connect(\"fetcher\", \"converter\")\n",
    "        self.html_pipeline = html_conversion_pipeline\n",
    "        \n",
    "    @component.output_types(articles=List[Document])\n",
    "    def run(self, top_k: int):\n",
    "        articles = []\n",
    "        trending_list = requests.get(\n",
    "            url=\"https://hacker-news.firebaseio.com/v0/topstories.json?print=pretty\"\n",
    "        )\n",
    "        for id in trending_list.json()[0:top_k]:\n",
    "            post = requests.get(\n",
    "                url=f\"https://hacker-news.firebaseio.com/v0/item/{id}.json?print=pretty\"\n",
    "            )\n",
    "            if \"url\" in post.json():\n",
    "                try:\n",
    "                    article = self.html_pipeline.run(\n",
    "                        {\"fetcher\": {\"urls\": [post.json()[\"url\"]]}}\n",
    "                    )\n",
    "                    articles.append(article[\"converter\"][\"documents\"][0])\n",
    "                except:\n",
    "                    print(f\"Can't download {post}, skipped\")\n",
    "            elif \"text\" in post.json():\n",
    "                try:\n",
    "                    articles.append(Document(content=post.json()[\"text\"], meta= {\"title\": post.json()[\"title\"]}))\n",
    "                except:\n",
    "                    print(f\"Can't download {post}, skipped\")\n",
    "        return {\"articles\": articles}"
   ]
  },
  {
   "cell_type": "code",
   "execution_count": 10,
   "metadata": {},
   "outputs": [
    {
     "name": "stdout",
     "output_type": "stream",
     "text": [
      "[Document(id=68edc1d9f8f1ff939531f702d1b29ed59e849f1225110bd4998ef1c23d32326e, content: 'Tikâª!â¬ 4+\n",
      "Discreet, Anytime, Anywhere\n",
      "Rohan Sachdeva\n",
      "-\n",
      "- $0.95\n",
      "iPhone Screenshots\n",
      "Description\n",
      "Ther...', meta: {'content_type': 'text/html', 'url': 'https://apps.apple.com/us/app/tik/id6720712299'}), Document(id=6b5cd00496edc3f582c4f6f9489bdaf79629a7222c5371bbc63d1dfdf370c6de, content: 'The $1,000 Wheelchair\n",
      "How the YouTubers from JerryRigEverything are Making Affordable Wheelchairs Wi...', meta: {'content_type': 'text/html', 'url': 'https://newmobility.com/not-a-wheelchair/'}), Document(id=341cd8b16767c39980eacba2be9cb6c65d629db8610885ed9d0696fe1fa36807, content: 'Serialization is the Secret\n",
      "If a value mutates in the forest with no one to see it, does it really m...', meta: {'content_type': 'text/html', 'url': 'https://www.zachdaniel.dev/p/serialization-is-the-secret'})]\n"
     ]
    }
   ],
   "source": [
    "fetcher = HackernewsNewestFetcher()\n",
    "results = fetcher.run(top_k=3)\n",
    "\n",
    "print(results['articles'])"
   ]
  },
  {
   "cell_type": "code",
   "execution_count": 13,
   "metadata": {},
   "outputs": [
    {
     "data": {
      "text/plain": [
       "<haystack.core.pipeline.pipeline.Pipeline object at 0x29b233550>\n",
       "🚅 Components\n",
       "  - fetcher: HackernewsNewestFetcher\n",
       "  - prompt: PromptBuilder\n",
       "  - llm: OllamaGenerator\n",
       "🛤️ Connections\n",
       "  - fetcher.articles -> prompt.articles (List[Document])\n",
       "  - prompt.prompt -> llm.prompt (str)"
      ]
     },
     "execution_count": 13,
     "metadata": {},
     "output_type": "execute_result"
    }
   ],
   "source": [
    "from haystack_integrations.components.generators.ollama import OllamaGenerator\n",
    "\n",
    "\n",
    "prompt_template = \"\"\"  \n",
    "You will be provided a few of the top posts in HackerNews, followed by their URL.  \n",
    "For each post, provide a brief summary followed by the URL the full post can be found at.  \n",
    "  \n",
    "Posts:  \n",
    "{% for article in articles %}  \n",
    "  {{ article.content }}\n",
    "  URL: {{ article.meta[\"url\"] }}\n",
    "{% endfor %}  \n",
    "\"\"\"\n",
    "\n",
    "prompt_builder = PromptBuilder(template=prompt_template)\n",
    "fetcher = HackernewsNewestFetcher()\n",
    "llm = OllamaGenerator(model=\"llama3.1:latest\",\n",
    "                            url = \"http://localhost:11434\",\n",
    "                            generation_kwargs={\n",
    "                              #\"num_predict\": 100,\n",
    "                             # \"temperature\": 0.9,\n",
    "                              })\n",
    "\n",
    "summarizer_pipeline = Pipeline()\n",
    "summarizer_pipeline.add_component(\"fetcher\", fetcher)\n",
    "summarizer_pipeline.add_component(\"prompt\", prompt_builder)\n",
    "summarizer_pipeline.add_component(\"llm\", llm)\n",
    "\n",
    "summarizer_pipeline.connect(\"fetcher.articles\", \"prompt.articles\")\n",
    "summarizer_pipeline.connect(\"prompt\", \"llm\")"
   ]
  },
  {
   "cell_type": "code",
   "execution_count": 15,
   "metadata": {},
   "outputs": [
    {
     "name": "stdout",
     "output_type": "stream",
     "text": [
      "Not a Wheelchair (NaW) is an employee-owned company that aims to disrupt the legacy wheelchair industry by offering high-quality, affordable wheelchairs. The company's approach is centered around making its base model chair available at low margins, with higher profit margins on upgraded versions.\n",
      "\n",
      "Key points about Not a Wheelchair:\n",
      "\n",
      "1. **Employee ownership**: NaW is an employee-owned company, which allows employees to have a stake in the business and share profits.\n",
      "2. **Base model chair**: The company offers a basic wheelchair at affordable prices, making it accessible to those who need a reliable and functional ride.\n",
      "3. **Upgrade options**: Customers can upgrade their chairs with various components, such as carbon fiber seat pans, wooden handrims, and more complex frame bends, which increases profit margins for the company.\n",
      "4. **Innovative designs**: NaW is working on developing new wheelchair models, including a four-wheel drive version of \"The Rig\" and a track wheelchair still in development.\n",
      "5. **Competitive pricing**: The company's focus on providing affordable wheelchairs makes it competitive with other options on the market.\n",
      "\n",
      "Interviews with Not a Wheelchair representatives reveal their commitment to delivering high-quality products:\n",
      "\n",
      "1. **Nelson**: The founder emphasizes the importance of employee ownership and prioritizing employee well-being, as well as making money through upgrades.\n",
      "2. **Green**: The company's CEO expresses excitement about the potential for innovation and disruption in the wheelchair industry.\n",
      "\n",
      "The article also includes a hands-on review of Not a Wheelchair's base model chair, which shows it to be a reliable and functional ride:\n",
      "\n",
      "1. **Tested and reviewed**: A manual wheelchair was provided to the author, who tested its performance and found it to be at least as good as many insurance-approved wheelchairs on the market.\n",
      "\n",
      "Overall, Not a Wheelchair seems to be making waves in the wheelchair industry by offering high-quality, affordable products and pushing the boundaries of innovation.\n"
     ]
    }
   ],
   "source": [
    "summaries = summarizer_pipeline.run({\"fetcher\": {\"top_k\": 2}})\n",
    "\n",
    "print(summaries[\"llm\"][\"replies\"][0])"
   ]
  },
  {
   "cell_type": "code",
   "execution_count": null,
   "metadata": {},
   "outputs": [],
   "source": []
  }
 ],
 "metadata": {
  "kernelspec": {
   "display_name": "haystack_rag",
   "language": "python",
   "name": "python3"
  },
  "language_info": {
   "codemirror_mode": {
    "name": "ipython",
    "version": 3
   },
   "file_extension": ".py",
   "mimetype": "text/x-python",
   "name": "python",
   "nbconvert_exporter": "python",
   "pygments_lexer": "ipython3",
   "version": "3.10.6"
  }
 },
 "nbformat": 4,
 "nbformat_minor": 2
}
